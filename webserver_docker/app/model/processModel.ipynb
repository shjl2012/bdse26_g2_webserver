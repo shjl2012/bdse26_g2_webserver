{
 "cells": [
  {
   "cell_type": "code",
   "execution_count": 1,
   "metadata": {},
   "outputs": [],
   "source": [
    "from house_price_MLP import HousePriceModel\n",
    "\n",
    "\n",
    "NTPC_model = HousePriceModel('NTPC')"
   ]
  },
  {
   "cell_type": "code",
   "execution_count": null,
   "metadata": {},
   "outputs": [],
   "source": [
    "NTPC_model.trainModel()"
   ]
  },
  {
   "cell_type": "code",
   "execution_count": 2,
   "metadata": {},
   "outputs": [
    {
     "name": "stdout",
     "output_type": "stream",
     "text": [
      "模型尚未訓練，請先訓練模型\n"
     ]
    }
   ],
   "source": [
    "NTPC_model.testModel('test_data')"
   ]
  },
  {
   "cell_type": "code",
   "execution_count": null,
   "metadata": {},
   "outputs": [],
   "source": [
    "lst = [0,4,2,2,1,129.51,0.0,17.05,1,35.0,111,6,8,0,0,0,0,0,0,0,0.0,1.0,0.0,0.0,0,0,0,794.5538897335127,18.0,32.0,60.0,3.0,11.0,23.0,5.0,11.0,27.0,9.0,20.0,43.0,0.0,0.0,0.0,0.0,0.0,0.0,0.0,1.0,1.0,411.85480817393375,0.0,0.0,0.0,3122.2581487468947,0,0,1,749.3264233222131,0.0,0.0,1.0,1.0,1.0,1.0,0,0,1,663.879485283118,1.0,9.0,11.0,0.0,0.0,0.0,0.0,57505.42715985227,87540.92551139237,0.0,0.0,0.0,819.2620160188941,3699.0547905524872,6384.859975714352,6.0,18.0,50.0,0,0,0,9490.64573166354,1,1,1,47.48890915436651,0,0,0,3996.745290163805,0,0,0,0,0,0,0,0,1,0,0,0,0,0,0,0,0,0,0,0,0,0,0,0,0,0,0]\n",
    "price = NTPC_model.predictPrice(lst)\n",
    "print(price)"
   ]
  },
  {
   "cell_type": "code",
   "execution_count": null,
   "metadata": {},
   "outputs": [],
   "source": []
  }
 ],
 "metadata": {
  "kernelspec": {
   "display_name": "Python 3.10.5 ('ox')",
   "language": "python",
   "name": "python3"
  },
  "language_info": {
   "codemirror_mode": {
    "name": "ipython",
    "version": 3
   },
   "file_extension": ".py",
   "mimetype": "text/x-python",
   "name": "python",
   "nbconvert_exporter": "python",
   "pygments_lexer": "ipython3",
   "version": "3.10.5"
  },
  "orig_nbformat": 4,
  "vscode": {
   "interpreter": {
    "hash": "a4e443fd1ca7fd3350a7a0b185f6306b13e34ba6181eeb3fd780c1d7ec31010d"
   }
  }
 },
 "nbformat": 4,
 "nbformat_minor": 2
}
